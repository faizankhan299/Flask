{
 "cells": [
  {
   "cell_type": "code",
   "execution_count": 2,
   "id": "f3e45fb9",
   "metadata": {},
   "outputs": [
    {
     "data": {
      "text/html": [
       "<div>\n",
       "<style scoped>\n",
       "    .dataframe tbody tr th:only-of-type {\n",
       "        vertical-align: middle;\n",
       "    }\n",
       "\n",
       "    .dataframe tbody tr th {\n",
       "        vertical-align: top;\n",
       "    }\n",
       "\n",
       "    .dataframe thead th {\n",
       "        text-align: right;\n",
       "    }\n",
       "</style>\n",
       "<table border=\"1\" class=\"dataframe\">\n",
       "  <thead>\n",
       "    <tr style=\"text-align: right;\">\n",
       "      <th></th>\n",
       "      <th>accidents</th>\n",
       "      <th>traffic_fine_amount</th>\n",
       "      <th>traffic_density</th>\n",
       "      <th>traffic_lights</th>\n",
       "      <th>pavement_quality</th>\n",
       "      <th>urban_area</th>\n",
       "      <th>average_speed</th>\n",
       "      <th>rain_intensity</th>\n",
       "      <th>vehicle_count</th>\n",
       "      <th>time_of_day</th>\n",
       "    </tr>\n",
       "  </thead>\n",
       "  <tbody>\n",
       "    <tr>\n",
       "      <th>0</th>\n",
       "      <td>20</td>\n",
       "      <td>4.3709</td>\n",
       "      <td>2.3049</td>\n",
       "      <td>0.0753</td>\n",
       "      <td>0.7700</td>\n",
       "      <td>1</td>\n",
       "      <td>32.1592</td>\n",
       "      <td>1.1944</td>\n",
       "      <td>29.0857</td>\n",
       "      <td>16.0432</td>\n",
       "    </tr>\n",
       "    <tr>\n",
       "      <th>1</th>\n",
       "      <td>11</td>\n",
       "      <td>9.5564</td>\n",
       "      <td>3.2757</td>\n",
       "      <td>0.5452</td>\n",
       "      <td>4.0540</td>\n",
       "      <td>1</td>\n",
       "      <td>47.8623</td>\n",
       "      <td>0.6296</td>\n",
       "      <td>93.1812</td>\n",
       "      <td>8.9108</td>\n",
       "    </tr>\n",
       "    <tr>\n",
       "      <th>2</th>\n",
       "      <td>19</td>\n",
       "      <td>7.5879</td>\n",
       "      <td>2.0989</td>\n",
       "      <td>0.6697</td>\n",
       "      <td>0.3450</td>\n",
       "      <td>0</td>\n",
       "      <td>36.4476</td>\n",
       "      <td>2.8584</td>\n",
       "      <td>83.0086</td>\n",
       "      <td>5.5727</td>\n",
       "    </tr>\n",
       "    <tr>\n",
       "      <th>3</th>\n",
       "      <td>23</td>\n",
       "      <td>6.3879</td>\n",
       "      <td>4.9188</td>\n",
       "      <td>0.9412</td>\n",
       "      <td>0.4729</td>\n",
       "      <td>0</td>\n",
       "      <td>20.9200</td>\n",
       "      <td>2.1065</td>\n",
       "      <td>81.3159</td>\n",
       "      <td>13.1452</td>\n",
       "    </tr>\n",
       "    <tr>\n",
       "      <th>4</th>\n",
       "      <td>23</td>\n",
       "      <td>2.4042</td>\n",
       "      <td>0.1961</td>\n",
       "      <td>0.7393</td>\n",
       "      <td>1.7111</td>\n",
       "      <td>1</td>\n",
       "      <td>37.3780</td>\n",
       "      <td>1.7028</td>\n",
       "      <td>1.4663</td>\n",
       "      <td>0.6961</td>\n",
       "    </tr>\n",
       "    <tr>\n",
       "      <th>...</th>\n",
       "      <td>...</td>\n",
       "      <td>...</td>\n",
       "      <td>...</td>\n",
       "      <td>...</td>\n",
       "      <td>...</td>\n",
       "      <td>...</td>\n",
       "      <td>...</td>\n",
       "      <td>...</td>\n",
       "      <td>...</td>\n",
       "      <td>...</td>\n",
       "    </tr>\n",
       "    <tr>\n",
       "      <th>8751</th>\n",
       "      <td>27</td>\n",
       "      <td>2.7683</td>\n",
       "      <td>6.9423</td>\n",
       "      <td>0.6604</td>\n",
       "      <td>3.3575</td>\n",
       "      <td>1</td>\n",
       "      <td>30.2001</td>\n",
       "      <td>1.9822</td>\n",
       "      <td>25.8918</td>\n",
       "      <td>11.1542</td>\n",
       "    </tr>\n",
       "    <tr>\n",
       "      <th>8752</th>\n",
       "      <td>18</td>\n",
       "      <td>3.2629</td>\n",
       "      <td>1.7275</td>\n",
       "      <td>0.5490</td>\n",
       "      <td>2.8478</td>\n",
       "      <td>1</td>\n",
       "      <td>6.2979</td>\n",
       "      <td>0.8273</td>\n",
       "      <td>29.6403</td>\n",
       "      <td>17.0410</td>\n",
       "    </tr>\n",
       "    <tr>\n",
       "      <th>8753</th>\n",
       "      <td>31</td>\n",
       "      <td>2.5621</td>\n",
       "      <td>8.5263</td>\n",
       "      <td>0.2784</td>\n",
       "      <td>3.2826</td>\n",
       "      <td>1</td>\n",
       "      <td>47.9934</td>\n",
       "      <td>2.8239</td>\n",
       "      <td>45.8211</td>\n",
       "      <td>19.2769</td>\n",
       "    </tr>\n",
       "    <tr>\n",
       "      <th>8754</th>\n",
       "      <td>10</td>\n",
       "      <td>9.6205</td>\n",
       "      <td>1.4003</td>\n",
       "      <td>0.2719</td>\n",
       "      <td>0.5776</td>\n",
       "      <td>1</td>\n",
       "      <td>28.0782</td>\n",
       "      <td>0.6403</td>\n",
       "      <td>14.7659</td>\n",
       "      <td>3.6364</td>\n",
       "    </tr>\n",
       "    <tr>\n",
       "      <th>8755</th>\n",
       "      <td>12</td>\n",
       "      <td>8.6916</td>\n",
       "      <td>4.0081</td>\n",
       "      <td>0.5386</td>\n",
       "      <td>2.3801</td>\n",
       "      <td>0</td>\n",
       "      <td>23.4632</td>\n",
       "      <td>1.1225</td>\n",
       "      <td>48.3979</td>\n",
       "      <td>1.0790</td>\n",
       "    </tr>\n",
       "  </tbody>\n",
       "</table>\n",
       "<p>8756 rows × 10 columns</p>\n",
       "</div>"
      ],
      "text/plain": [
       "      accidents  traffic_fine_amount  traffic_density  traffic_lights  \\\n",
       "0            20               4.3709           2.3049          0.0753   \n",
       "1            11               9.5564           3.2757          0.5452   \n",
       "2            19               7.5879           2.0989          0.6697   \n",
       "3            23               6.3879           4.9188          0.9412   \n",
       "4            23               2.4042           0.1961          0.7393   \n",
       "...         ...                  ...              ...             ...   \n",
       "8751         27               2.7683           6.9423          0.6604   \n",
       "8752         18               3.2629           1.7275          0.5490   \n",
       "8753         31               2.5621           8.5263          0.2784   \n",
       "8754         10               9.6205           1.4003          0.2719   \n",
       "8755         12               8.6916           4.0081          0.5386   \n",
       "\n",
       "      pavement_quality  urban_area  average_speed  rain_intensity  \\\n",
       "0               0.7700           1        32.1592          1.1944   \n",
       "1               4.0540           1        47.8623          0.6296   \n",
       "2               0.3450           0        36.4476          2.8584   \n",
       "3               0.4729           0        20.9200          2.1065   \n",
       "4               1.7111           1        37.3780          1.7028   \n",
       "...                ...         ...            ...             ...   \n",
       "8751            3.3575           1        30.2001          1.9822   \n",
       "8752            2.8478           1         6.2979          0.8273   \n",
       "8753            3.2826           1        47.9934          2.8239   \n",
       "8754            0.5776           1        28.0782          0.6403   \n",
       "8755            2.3801           0        23.4632          1.1225   \n",
       "\n",
       "      vehicle_count  time_of_day  \n",
       "0           29.0857      16.0432  \n",
       "1           93.1812       8.9108  \n",
       "2           83.0086       5.5727  \n",
       "3           81.3159      13.1452  \n",
       "4            1.4663       0.6961  \n",
       "...             ...          ...  \n",
       "8751        25.8918      11.1542  \n",
       "8752        29.6403      17.0410  \n",
       "8753        45.8211      19.2769  \n",
       "8754        14.7659       3.6364  \n",
       "8755        48.3979       1.0790  \n",
       "\n",
       "[8756 rows x 10 columns]"
      ]
     },
     "execution_count": 2,
     "metadata": {},
     "output_type": "execute_result"
    }
   ],
   "source": [
    "import pandas as pd \n",
    "import matplotlib.pyplot as plt\n",
    "import numpy as np\n",
    "import seaborn as sns\n",
    "import plotly.express as px \n",
    "df = pd.read_csv(r\"C:\\Users\\Faizan khan\\Desktop\\Flask\\traffic accidents.csv\")\n",
    "df"
   ]
  },
  {
   "cell_type": "code",
   "execution_count": 3,
   "id": "cb4e5a44",
   "metadata": {},
   "outputs": [
    {
     "data": {
      "application/vnd.plotly.v1+json": {
       "config": {
        "plotlyServerURL": "https://plot.ly"
       },
       "data": [
        {
         "hovertemplate": "rain_intensity=%{x}<br>traffic_density=%{y}<extra></extra>",
         "legendgroup": "",
         "line": {
          "color": "#636efa",
          "dash": "solid"
         },
         "marker": {
          "symbol": "circle"
         },
         "mode": "lines",
         "name": "",
         "showlegend": false,
         "type": "scattergl",
         "x": {
          "bdata": "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",
          "dtype": "f8"
         },
         "xaxis": "x",
         "y": {
          "bdata": "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",
          "dtype": "f8"
         },
         "yaxis": "y"
        }
       ],
       "layout": {
        "legend": {
         "tracegroupgap": 0
        },
        "template": {
         "data": {
          "bar": [
           {
            "error_x": {
             "color": "#2a3f5f"
            },
            "error_y": {
             "color": "#2a3f5f"
            },
            "marker": {
             "line": {
              "color": "#E5ECF6",
              "width": 0.5
             },
             "pattern": {
              "fillmode": "overlay",
              "size": 10,
              "solidity": 0.2
             }
            },
            "type": "bar"
           }
          ],
          "barpolar": [
           {
            "marker": {
             "line": {
              "color": "#E5ECF6",
              "width": 0.5
             },
             "pattern": {
              "fillmode": "overlay",
              "size": 10,
              "solidity": 0.2
             }
            },
            "type": "barpolar"
           }
          ],
          "carpet": [
           {
            "aaxis": {
             "endlinecolor": "#2a3f5f",
             "gridcolor": "white",
             "linecolor": "white",
             "minorgridcolor": "white",
             "startlinecolor": "#2a3f5f"
            },
            "baxis": {
             "endlinecolor": "#2a3f5f",
             "gridcolor": "white",
             "linecolor": "white",
             "minorgridcolor": "white",
             "startlinecolor": "#2a3f5f"
            },
            "type": "carpet"
           }
          ],
          "choropleth": [
           {
            "colorbar": {
             "outlinewidth": 0,
             "ticks": ""
            },
            "type": "choropleth"
           }
          ],
          "contour": [
           {
            "colorbar": {
             "outlinewidth": 0,
             "ticks": ""
            },
            "colorscale": [
             [
              0,
              "#0d0887"
             ],
             [
              0.1111111111111111,
              "#46039f"
             ],
             [
              0.2222222222222222,
              "#7201a8"
             ],
             [
              0.3333333333333333,
              "#9c179e"
             ],
             [
              0.4444444444444444,
              "#bd3786"
             ],
             [
              0.5555555555555556,
              "#d8576b"
             ],
             [
              0.6666666666666666,
              "#ed7953"
             ],
             [
              0.7777777777777778,
              "#fb9f3a"
             ],
             [
              0.8888888888888888,
              "#fdca26"
             ],
             [
              1,
              "#f0f921"
             ]
            ],
            "type": "contour"
           }
          ],
          "contourcarpet": [
           {
            "colorbar": {
             "outlinewidth": 0,
             "ticks": ""
            },
            "type": "contourcarpet"
           }
          ],
          "heatmap": [
           {
            "colorbar": {
             "outlinewidth": 0,
             "ticks": ""
            },
            "colorscale": [
             [
              0,
              "#0d0887"
             ],
             [
              0.1111111111111111,
              "#46039f"
             ],
             [
              0.2222222222222222,
              "#7201a8"
             ],
             [
              0.3333333333333333,
              "#9c179e"
             ],
             [
              0.4444444444444444,
              "#bd3786"
             ],
             [
              0.5555555555555556,
              "#d8576b"
             ],
             [
              0.6666666666666666,
              "#ed7953"
             ],
             [
              0.7777777777777778,
              "#fb9f3a"
             ],
             [
              0.8888888888888888,
              "#fdca26"
             ],
             [
              1,
              "#f0f921"
             ]
            ],
            "type": "heatmap"
           }
          ],
          "histogram": [
           {
            "marker": {
             "pattern": {
              "fillmode": "overlay",
              "size": 10,
              "solidity": 0.2
             }
            },
            "type": "histogram"
           }
          ],
          "histogram2d": [
           {
            "colorbar": {
             "outlinewidth": 0,
             "ticks": ""
            },
            "colorscale": [
             [
              0,
              "#0d0887"
             ],
             [
              0.1111111111111111,
              "#46039f"
             ],
             [
              0.2222222222222222,
              "#7201a8"
             ],
             [
              0.3333333333333333,
              "#9c179e"
             ],
             [
              0.4444444444444444,
              "#bd3786"
             ],
             [
              0.5555555555555556,
              "#d8576b"
             ],
             [
              0.6666666666666666,
              "#ed7953"
             ],
             [
              0.7777777777777778,
              "#fb9f3a"
             ],
             [
              0.8888888888888888,
              "#fdca26"
             ],
             [
              1,
              "#f0f921"
             ]
            ],
            "type": "histogram2d"
           }
          ],
          "histogram2dcontour": [
           {
            "colorbar": {
             "outlinewidth": 0,
             "ticks": ""
            },
            "colorscale": [
             [
              0,
              "#0d0887"
             ],
             [
              0.1111111111111111,
              "#46039f"
             ],
             [
              0.2222222222222222,
              "#7201a8"
             ],
             [
              0.3333333333333333,
              "#9c179e"
             ],
             [
              0.4444444444444444,
              "#bd3786"
             ],
             [
              0.5555555555555556,
              "#d8576b"
             ],
             [
              0.6666666666666666,
              "#ed7953"
             ],
             [
              0.7777777777777778,
              "#fb9f3a"
             ],
             [
              0.8888888888888888,
              "#fdca26"
             ],
             [
              1,
              "#f0f921"
             ]
            ],
            "type": "histogram2dcontour"
           }
          ],
          "mesh3d": [
           {
            "colorbar": {
             "outlinewidth": 0,
             "ticks": ""
            },
            "type": "mesh3d"
           }
          ],
          "parcoords": [
           {
            "line": {
             "colorbar": {
              "outlinewidth": 0,
              "ticks": ""
             }
            },
            "type": "parcoords"
           }
          ],
          "pie": [
           {
            "automargin": true,
            "type": "pie"
           }
          ],
          "scatter": [
           {
            "fillpattern": {
             "fillmode": "overlay",
             "size": 10,
             "solidity": 0.2
            },
            "type": "scatter"
           }
          ],
          "scatter3d": [
           {
            "line": {
             "colorbar": {
              "outlinewidth": 0,
              "ticks": ""
             }
            },
            "marker": {
             "colorbar": {
              "outlinewidth": 0,
              "ticks": ""
             }
            },
            "type": "scatter3d"
           }
          ],
          "scattercarpet": [
           {
            "marker": {
             "colorbar": {
              "outlinewidth": 0,
              "ticks": ""
             }
            },
            "type": "scattercarpet"
           }
          ],
          "scattergeo": [
           {
            "marker": {
             "colorbar": {
              "outlinewidth": 0,
              "ticks": ""
             }
            },
            "type": "scattergeo"
           }
          ],
          "scattergl": [
           {
            "marker": {
             "colorbar": {
              "outlinewidth": 0,
              "ticks": ""
             }
            },
            "type": "scattergl"
           }
          ],
          "scattermap": [
           {
            "marker": {
             "colorbar": {
              "outlinewidth": 0,
              "ticks": ""
             }
            },
            "type": "scattermap"
           }
          ],
          "scattermapbox": [
           {
            "marker": {
             "colorbar": {
              "outlinewidth": 0,
              "ticks": ""
             }
            },
            "type": "scattermapbox"
           }
          ],
          "scatterpolar": [
           {
            "marker": {
             "colorbar": {
              "outlinewidth": 0,
              "ticks": ""
             }
            },
            "type": "scatterpolar"
           }
          ],
          "scatterpolargl": [
           {
            "marker": {
             "colorbar": {
              "outlinewidth": 0,
              "ticks": ""
             }
            },
            "type": "scatterpolargl"
           }
          ],
          "scatterternary": [
           {
            "marker": {
             "colorbar": {
              "outlinewidth": 0,
              "ticks": ""
             }
            },
            "type": "scatterternary"
           }
          ],
          "surface": [
           {
            "colorbar": {
             "outlinewidth": 0,
             "ticks": ""
            },
            "colorscale": [
             [
              0,
              "#0d0887"
             ],
             [
              0.1111111111111111,
              "#46039f"
             ],
             [
              0.2222222222222222,
              "#7201a8"
             ],
             [
              0.3333333333333333,
              "#9c179e"
             ],
             [
              0.4444444444444444,
              "#bd3786"
             ],
             [
              0.5555555555555556,
              "#d8576b"
             ],
             [
              0.6666666666666666,
              "#ed7953"
             ],
             [
              0.7777777777777778,
              "#fb9f3a"
             ],
             [
              0.8888888888888888,
              "#fdca26"
             ],
             [
              1,
              "#f0f921"
             ]
            ],
            "type": "surface"
           }
          ],
          "table": [
           {
            "cells": {
             "fill": {
              "color": "#EBF0F8"
             },
             "line": {
              "color": "white"
             }
            },
            "header": {
             "fill": {
              "color": "#C8D4E3"
             },
             "line": {
              "color": "white"
             }
            },
            "type": "table"
           }
          ]
         },
         "layout": {
          "annotationdefaults": {
           "arrowcolor": "#2a3f5f",
           "arrowhead": 0,
           "arrowwidth": 1
          },
          "autotypenumbers": "strict",
          "coloraxis": {
           "colorbar": {
            "outlinewidth": 0,
            "ticks": ""
           }
          },
          "colorscale": {
           "diverging": [
            [
             0,
             "#8e0152"
            ],
            [
             0.1,
             "#c51b7d"
            ],
            [
             0.2,
             "#de77ae"
            ],
            [
             0.3,
             "#f1b6da"
            ],
            [
             0.4,
             "#fde0ef"
            ],
            [
             0.5,
             "#f7f7f7"
            ],
            [
             0.6,
             "#e6f5d0"
            ],
            [
             0.7,
             "#b8e186"
            ],
            [
             0.8,
             "#7fbc41"
            ],
            [
             0.9,
             "#4d9221"
            ],
            [
             1,
             "#276419"
            ]
           ],
           "sequential": [
            [
             0,
             "#0d0887"
            ],
            [
             0.1111111111111111,
             "#46039f"
            ],
            [
             0.2222222222222222,
             "#7201a8"
            ],
            [
             0.3333333333333333,
             "#9c179e"
            ],
            [
             0.4444444444444444,
             "#bd3786"
            ],
            [
             0.5555555555555556,
             "#d8576b"
            ],
            [
             0.6666666666666666,
             "#ed7953"
            ],
            [
             0.7777777777777778,
             "#fb9f3a"
            ],
            [
             0.8888888888888888,
             "#fdca26"
            ],
            [
             1,
             "#f0f921"
            ]
           ],
           "sequentialminus": [
            [
             0,
             "#0d0887"
            ],
            [
             0.1111111111111111,
             "#46039f"
            ],
            [
             0.2222222222222222,
             "#7201a8"
            ],
            [
             0.3333333333333333,
             "#9c179e"
            ],
            [
             0.4444444444444444,
             "#bd3786"
            ],
            [
             0.5555555555555556,
             "#d8576b"
            ],
            [
             0.6666666666666666,
             "#ed7953"
            ],
            [
             0.7777777777777778,
             "#fb9f3a"
            ],
            [
             0.8888888888888888,
             "#fdca26"
            ],
            [
             1,
             "#f0f921"
            ]
           ]
          },
          "colorway": [
           "#636efa",
           "#EF553B",
           "#00cc96",
           "#ab63fa",
           "#FFA15A",
           "#19d3f3",
           "#FF6692",
           "#B6E880",
           "#FF97FF",
           "#FECB52"
          ],
          "font": {
           "color": "#2a3f5f"
          },
          "geo": {
           "bgcolor": "white",
           "lakecolor": "white",
           "landcolor": "#E5ECF6",
           "showlakes": true,
           "showland": true,
           "subunitcolor": "white"
          },
          "hoverlabel": {
           "align": "left"
          },
          "hovermode": "closest",
          "mapbox": {
           "style": "light"
          },
          "paper_bgcolor": "white",
          "plot_bgcolor": "#E5ECF6",
          "polar": {
           "angularaxis": {
            "gridcolor": "white",
            "linecolor": "white",
            "ticks": ""
           },
           "bgcolor": "#E5ECF6",
           "radialaxis": {
            "gridcolor": "white",
            "linecolor": "white",
            "ticks": ""
           }
          },
          "scene": {
           "xaxis": {
            "backgroundcolor": "#E5ECF6",
            "gridcolor": "white",
            "gridwidth": 2,
            "linecolor": "white",
            "showbackground": true,
            "ticks": "",
            "zerolinecolor": "white"
           },
           "yaxis": {
            "backgroundcolor": "#E5ECF6",
            "gridcolor": "white",
            "gridwidth": 2,
            "linecolor": "white",
            "showbackground": true,
            "ticks": "",
            "zerolinecolor": "white"
           },
           "zaxis": {
            "backgroundcolor": "#E5ECF6",
            "gridcolor": "white",
            "gridwidth": 2,
            "linecolor": "white",
            "showbackground": true,
            "ticks": "",
            "zerolinecolor": "white"
           }
          },
          "shapedefaults": {
           "line": {
            "color": "#2a3f5f"
           }
          },
          "ternary": {
           "aaxis": {
            "gridcolor": "white",
            "linecolor": "white",
            "ticks": ""
           },
           "baxis": {
            "gridcolor": "white",
            "linecolor": "white",
            "ticks": ""
           },
           "bgcolor": "#E5ECF6",
           "caxis": {
            "gridcolor": "white",
            "linecolor": "white",
            "ticks": ""
           }
          },
          "title": {
           "x": 0.05
          },
          "xaxis": {
           "automargin": true,
           "gridcolor": "white",
           "linecolor": "white",
           "ticks": "",
           "title": {
            "standoff": 15
           },
           "zerolinecolor": "white",
           "zerolinewidth": 2
          },
          "yaxis": {
           "automargin": true,
           "gridcolor": "white",
           "linecolor": "white",
           "ticks": "",
           "title": {
            "standoff": 15
           },
           "zerolinecolor": "white",
           "zerolinewidth": 2
          }
         }
        },
        "title": {
         "text": "Rain intensity vs. Traffic Density"
        },
        "xaxis": {
         "anchor": "y",
         "domain": [
          0,
          1
         ],
         "title": {
          "text": "rain_intensity"
         }
        },
        "yaxis": {
         "anchor": "x",
         "domain": [
          0,
          1
         ],
         "title": {
          "text": "traffic_density"
         }
        }
       }
      }
     },
     "metadata": {},
     "output_type": "display_data"
    }
   ],
   "source": [
    "fig = px.line(df, x = 'rain_intensity' ,y = 'traffic_density',\n",
    "              title = 'Rain intensity vs. Traffic Density')\n",
    "fig.show()"
   ]
  },
  {
   "cell_type": "code",
   "execution_count": 4,
   "id": "dfe830fd",
   "metadata": {},
   "outputs": [
    {
     "data": {
      "application/vnd.plotly.v1+json": {
       "config": {
        "plotlyServerURL": "https://plot.ly"
       },
       "data": [
        {
         "hovertemplate": "rain_intensity=%{x}<br>average_speed=%{y}<extra></extra>",
         "legendgroup": "",
         "marker": {
          "color": "#636efa",
          "symbol": "circle"
         },
         "mode": "markers",
         "name": "",
         "showlegend": false,
         "type": "scattergl",
         "x": {
          "bdata": "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",
          "dtype": "f8"
         },
         "xaxis": "x",
         "y": {
          "bdata": "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",
          "dtype": "f8"
         },
         "yaxis": "y"
        }
       ],
       "layout": {
        "legend": {
         "tracegroupgap": 0
        },
        "template": {
         "data": {
          "bar": [
           {
            "error_x": {
             "color": "#2a3f5f"
            },
            "error_y": {
             "color": "#2a3f5f"
            },
            "marker": {
             "line": {
              "color": "#E5ECF6",
              "width": 0.5
             },
             "pattern": {
              "fillmode": "overlay",
              "size": 10,
              "solidity": 0.2
             }
            },
            "type": "bar"
           }
          ],
          "barpolar": [
           {
            "marker": {
             "line": {
              "color": "#E5ECF6",
              "width": 0.5
             },
             "pattern": {
              "fillmode": "overlay",
              "size": 10,
              "solidity": 0.2
             }
            },
            "type": "barpolar"
           }
          ],
          "carpet": [
           {
            "aaxis": {
             "endlinecolor": "#2a3f5f",
             "gridcolor": "white",
             "linecolor": "white",
             "minorgridcolor": "white",
             "startlinecolor": "#2a3f5f"
            },
            "baxis": {
             "endlinecolor": "#2a3f5f",
             "gridcolor": "white",
             "linecolor": "white",
             "minorgridcolor": "white",
             "startlinecolor": "#2a3f5f"
            },
            "type": "carpet"
           }
          ],
          "choropleth": [
           {
            "colorbar": {
             "outlinewidth": 0,
             "ticks": ""
            },
            "type": "choropleth"
           }
          ],
          "contour": [
           {
            "colorbar": {
             "outlinewidth": 0,
             "ticks": ""
            },
            "colorscale": [
             [
              0,
              "#0d0887"
             ],
             [
              0.1111111111111111,
              "#46039f"
             ],
             [
              0.2222222222222222,
              "#7201a8"
             ],
             [
              0.3333333333333333,
              "#9c179e"
             ],
             [
              0.4444444444444444,
              "#bd3786"
             ],
             [
              0.5555555555555556,
              "#d8576b"
             ],
             [
              0.6666666666666666,
              "#ed7953"
             ],
             [
              0.7777777777777778,
              "#fb9f3a"
             ],
             [
              0.8888888888888888,
              "#fdca26"
             ],
             [
              1,
              "#f0f921"
             ]
            ],
            "type": "contour"
           }
          ],
          "contourcarpet": [
           {
            "colorbar": {
             "outlinewidth": 0,
             "ticks": ""
            },
            "type": "contourcarpet"
           }
          ],
          "heatmap": [
           {
            "colorbar": {
             "outlinewidth": 0,
             "ticks": ""
            },
            "colorscale": [
             [
              0,
              "#0d0887"
             ],
             [
              0.1111111111111111,
              "#46039f"
             ],
             [
              0.2222222222222222,
              "#7201a8"
             ],
             [
              0.3333333333333333,
              "#9c179e"
             ],
             [
              0.4444444444444444,
              "#bd3786"
             ],
             [
              0.5555555555555556,
              "#d8576b"
             ],
             [
              0.6666666666666666,
              "#ed7953"
             ],
             [
              0.7777777777777778,
              "#fb9f3a"
             ],
             [
              0.8888888888888888,
              "#fdca26"
             ],
             [
              1,
              "#f0f921"
             ]
            ],
            "type": "heatmap"
           }
          ],
          "histogram": [
           {
            "marker": {
             "pattern": {
              "fillmode": "overlay",
              "size": 10,
              "solidity": 0.2
             }
            },
            "type": "histogram"
           }
          ],
          "histogram2d": [
           {
            "colorbar": {
             "outlinewidth": 0,
             "ticks": ""
            },
            "colorscale": [
             [
              0,
              "#0d0887"
             ],
             [
              0.1111111111111111,
              "#46039f"
             ],
             [
              0.2222222222222222,
              "#7201a8"
             ],
             [
              0.3333333333333333,
              "#9c179e"
             ],
             [
              0.4444444444444444,
              "#bd3786"
             ],
             [
              0.5555555555555556,
              "#d8576b"
             ],
             [
              0.6666666666666666,
              "#ed7953"
             ],
             [
              0.7777777777777778,
              "#fb9f3a"
             ],
             [
              0.8888888888888888,
              "#fdca26"
             ],
             [
              1,
              "#f0f921"
             ]
            ],
            "type": "histogram2d"
           }
          ],
          "histogram2dcontour": [
           {
            "colorbar": {
             "outlinewidth": 0,
             "ticks": ""
            },
            "colorscale": [
             [
              0,
              "#0d0887"
             ],
             [
              0.1111111111111111,
              "#46039f"
             ],
             [
              0.2222222222222222,
              "#7201a8"
             ],
             [
              0.3333333333333333,
              "#9c179e"
             ],
             [
              0.4444444444444444,
              "#bd3786"
             ],
             [
              0.5555555555555556,
              "#d8576b"
             ],
             [
              0.6666666666666666,
              "#ed7953"
             ],
             [
              0.7777777777777778,
              "#fb9f3a"
             ],
             [
              0.8888888888888888,
              "#fdca26"
             ],
             [
              1,
              "#f0f921"
             ]
            ],
            "type": "histogram2dcontour"
           }
          ],
          "mesh3d": [
           {
            "colorbar": {
             "outlinewidth": 0,
             "ticks": ""
            },
            "type": "mesh3d"
           }
          ],
          "parcoords": [
           {
            "line": {
             "colorbar": {
              "outlinewidth": 0,
              "ticks": ""
             }
            },
            "type": "parcoords"
           }
          ],
          "pie": [
           {
            "automargin": true,
            "type": "pie"
           }
          ],
          "scatter": [
           {
            "fillpattern": {
             "fillmode": "overlay",
             "size": 10,
             "solidity": 0.2
            },
            "type": "scatter"
           }
          ],
          "scatter3d": [
           {
            "line": {
             "colorbar": {
              "outlinewidth": 0,
              "ticks": ""
             }
            },
            "marker": {
             "colorbar": {
              "outlinewidth": 0,
              "ticks": ""
             }
            },
            "type": "scatter3d"
           }
          ],
          "scattercarpet": [
           {
            "marker": {
             "colorbar": {
              "outlinewidth": 0,
              "ticks": ""
             }
            },
            "type": "scattercarpet"
           }
          ],
          "scattergeo": [
           {
            "marker": {
             "colorbar": {
              "outlinewidth": 0,
              "ticks": ""
             }
            },
            "type": "scattergeo"
           }
          ],
          "scattergl": [
           {
            "marker": {
             "colorbar": {
              "outlinewidth": 0,
              "ticks": ""
             }
            },
            "type": "scattergl"
           }
          ],
          "scattermap": [
           {
            "marker": {
             "colorbar": {
              "outlinewidth": 0,
              "ticks": ""
             }
            },
            "type": "scattermap"
           }
          ],
          "scattermapbox": [
           {
            "marker": {
             "colorbar": {
              "outlinewidth": 0,
              "ticks": ""
             }
            },
            "type": "scattermapbox"
           }
          ],
          "scatterpolar": [
           {
            "marker": {
             "colorbar": {
              "outlinewidth": 0,
              "ticks": ""
             }
            },
            "type": "scatterpolar"
           }
          ],
          "scatterpolargl": [
           {
            "marker": {
             "colorbar": {
              "outlinewidth": 0,
              "ticks": ""
             }
            },
            "type": "scatterpolargl"
           }
          ],
          "scatterternary": [
           {
            "marker": {
             "colorbar": {
              "outlinewidth": 0,
              "ticks": ""
             }
            },
            "type": "scatterternary"
           }
          ],
          "surface": [
           {
            "colorbar": {
             "outlinewidth": 0,
             "ticks": ""
            },
            "colorscale": [
             [
              0,
              "#0d0887"
             ],
             [
              0.1111111111111111,
              "#46039f"
             ],
             [
              0.2222222222222222,
              "#7201a8"
             ],
             [
              0.3333333333333333,
              "#9c179e"
             ],
             [
              0.4444444444444444,
              "#bd3786"
             ],
             [
              0.5555555555555556,
              "#d8576b"
             ],
             [
              0.6666666666666666,
              "#ed7953"
             ],
             [
              0.7777777777777778,
              "#fb9f3a"
             ],
             [
              0.8888888888888888,
              "#fdca26"
             ],
             [
              1,
              "#f0f921"
             ]
            ],
            "type": "surface"
           }
          ],
          "table": [
           {
            "cells": {
             "fill": {
              "color": "#EBF0F8"
             },
             "line": {
              "color": "white"
             }
            },
            "header": {
             "fill": {
              "color": "#C8D4E3"
             },
             "line": {
              "color": "white"
             }
            },
            "type": "table"
           }
          ]
         },
         "layout": {
          "annotationdefaults": {
           "arrowcolor": "#2a3f5f",
           "arrowhead": 0,
           "arrowwidth": 1
          },
          "autotypenumbers": "strict",
          "coloraxis": {
           "colorbar": {
            "outlinewidth": 0,
            "ticks": ""
           }
          },
          "colorscale": {
           "diverging": [
            [
             0,
             "#8e0152"
            ],
            [
             0.1,
             "#c51b7d"
            ],
            [
             0.2,
             "#de77ae"
            ],
            [
             0.3,
             "#f1b6da"
            ],
            [
             0.4,
             "#fde0ef"
            ],
            [
             0.5,
             "#f7f7f7"
            ],
            [
             0.6,
             "#e6f5d0"
            ],
            [
             0.7,
             "#b8e186"
            ],
            [
             0.8,
             "#7fbc41"
            ],
            [
             0.9,
             "#4d9221"
            ],
            [
             1,
             "#276419"
            ]
           ],
           "sequential": [
            [
             0,
             "#0d0887"
            ],
            [
             0.1111111111111111,
             "#46039f"
            ],
            [
             0.2222222222222222,
             "#7201a8"
            ],
            [
             0.3333333333333333,
             "#9c179e"
            ],
            [
             0.4444444444444444,
             "#bd3786"
            ],
            [
             0.5555555555555556,
             "#d8576b"
            ],
            [
             0.6666666666666666,
             "#ed7953"
            ],
            [
             0.7777777777777778,
             "#fb9f3a"
            ],
            [
             0.8888888888888888,
             "#fdca26"
            ],
            [
             1,
             "#f0f921"
            ]
           ],
           "sequentialminus": [
            [
             0,
             "#0d0887"
            ],
            [
             0.1111111111111111,
             "#46039f"
            ],
            [
             0.2222222222222222,
             "#7201a8"
            ],
            [
             0.3333333333333333,
             "#9c179e"
            ],
            [
             0.4444444444444444,
             "#bd3786"
            ],
            [
             0.5555555555555556,
             "#d8576b"
            ],
            [
             0.6666666666666666,
             "#ed7953"
            ],
            [
             0.7777777777777778,
             "#fb9f3a"
            ],
            [
             0.8888888888888888,
             "#fdca26"
            ],
            [
             1,
             "#f0f921"
            ]
           ]
          },
          "colorway": [
           "#636efa",
           "#EF553B",
           "#00cc96",
           "#ab63fa",
           "#FFA15A",
           "#19d3f3",
           "#FF6692",
           "#B6E880",
           "#FF97FF",
           "#FECB52"
          ],
          "font": {
           "color": "#2a3f5f"
          },
          "geo": {
           "bgcolor": "white",
           "lakecolor": "white",
           "landcolor": "#E5ECF6",
           "showlakes": true,
           "showland": true,
           "subunitcolor": "white"
          },
          "hoverlabel": {
           "align": "left"
          },
          "hovermode": "closest",
          "mapbox": {
           "style": "light"
          },
          "paper_bgcolor": "white",
          "plot_bgcolor": "#E5ECF6",
          "polar": {
           "angularaxis": {
            "gridcolor": "white",
            "linecolor": "white",
            "ticks": ""
           },
           "bgcolor": "#E5ECF6",
           "radialaxis": {
            "gridcolor": "white",
            "linecolor": "white",
            "ticks": ""
           }
          },
          "scene": {
           "xaxis": {
            "backgroundcolor": "#E5ECF6",
            "gridcolor": "white",
            "gridwidth": 2,
            "linecolor": "white",
            "showbackground": true,
            "ticks": "",
            "zerolinecolor": "white"
           },
           "yaxis": {
            "backgroundcolor": "#E5ECF6",
            "gridcolor": "white",
            "gridwidth": 2,
            "linecolor": "white",
            "showbackground": true,
            "ticks": "",
            "zerolinecolor": "white"
           },
           "zaxis": {
            "backgroundcolor": "#E5ECF6",
            "gridcolor": "white",
            "gridwidth": 2,
            "linecolor": "white",
            "showbackground": true,
            "ticks": "",
            "zerolinecolor": "white"
           }
          },
          "shapedefaults": {
           "line": {
            "color": "#2a3f5f"
           }
          },
          "ternary": {
           "aaxis": {
            "gridcolor": "white",
            "linecolor": "white",
            "ticks": ""
           },
           "baxis": {
            "gridcolor": "white",
            "linecolor": "white",
            "ticks": ""
           },
           "bgcolor": "#E5ECF6",
           "caxis": {
            "gridcolor": "white",
            "linecolor": "white",
            "ticks": ""
           }
          },
          "title": {
           "x": 0.05
          },
          "xaxis": {
           "automargin": true,
           "gridcolor": "white",
           "linecolor": "white",
           "ticks": "",
           "title": {
            "standoff": 15
           },
           "zerolinecolor": "white",
           "zerolinewidth": 2
          },
          "yaxis": {
           "automargin": true,
           "gridcolor": "white",
           "linecolor": "white",
           "ticks": "",
           "title": {
            "standoff": 15
           },
           "zerolinecolor": "white",
           "zerolinewidth": 2
          }
         }
        },
        "title": {
         "text": "Rain intensity vs. Average speed"
        },
        "xaxis": {
         "anchor": "y",
         "domain": [
          0,
          1
         ],
         "title": {
          "text": "rain_intensity"
         }
        },
        "yaxis": {
         "anchor": "x",
         "domain": [
          0,
          1
         ],
         "title": {
          "text": "average_speed"
         }
        }
       }
      }
     },
     "metadata": {},
     "output_type": "display_data"
    }
   ],
   "source": [
    "fig = px.scatter(df, x = 'rain_intensity' ,y = 'average_speed',\n",
    "              title = 'Rain intensity vs. Average speed')\n",
    "fig.show()"
   ]
  },
  {
   "cell_type": "code",
   "execution_count": 5,
   "id": "f364d6d9",
   "metadata": {},
   "outputs": [
    {
     "data": {
      "application/vnd.plotly.v1+json": {
       "config": {
        "plotlyServerURL": "https://plot.ly"
       },
       "data": [
        {
         "hovertemplate": "pavement_quality=%{x}<br>accidents=%{y}<extra></extra>",
         "legendgroup": "",
         "marker": {
          "color": "#636efa",
          "pattern": {
           "shape": ""
          }
         },
         "name": "",
         "orientation": "v",
         "showlegend": false,
         "textposition": "auto",
         "type": "bar",
         "x": {
          "bdata": "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",
          "dtype": "f8"
         },
         "xaxis": "x",
         "y": {
          "bdata": "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",
          "dtype": "i1"
         },
         "yaxis": "y"
        }
       ],
       "layout": {
        "barmode": "relative",
        "legend": {
         "tracegroupgap": 0
        },
        "template": {
         "data": {
          "bar": [
           {
            "error_x": {
             "color": "#2a3f5f"
            },
            "error_y": {
             "color": "#2a3f5f"
            },
            "marker": {
             "line": {
              "color": "#E5ECF6",
              "width": 0.5
             },
             "pattern": {
              "fillmode": "overlay",
              "size": 10,
              "solidity": 0.2
             }
            },
            "type": "bar"
           }
          ],
          "barpolar": [
           {
            "marker": {
             "line": {
              "color": "#E5ECF6",
              "width": 0.5
             },
             "pattern": {
              "fillmode": "overlay",
              "size": 10,
              "solidity": 0.2
             }
            },
            "type": "barpolar"
           }
          ],
          "carpet": [
           {
            "aaxis": {
             "endlinecolor": "#2a3f5f",
             "gridcolor": "white",
             "linecolor": "white",
             "minorgridcolor": "white",
             "startlinecolor": "#2a3f5f"
            },
            "baxis": {
             "endlinecolor": "#2a3f5f",
             "gridcolor": "white",
             "linecolor": "white",
             "minorgridcolor": "white",
             "startlinecolor": "#2a3f5f"
            },
            "type": "carpet"
           }
          ],
          "choropleth": [
           {
            "colorbar": {
             "outlinewidth": 0,
             "ticks": ""
            },
            "type": "choropleth"
           }
          ],
          "contour": [
           {
            "colorbar": {
             "outlinewidth": 0,
             "ticks": ""
            },
            "colorscale": [
             [
              0,
              "#0d0887"
             ],
             [
              0.1111111111111111,
              "#46039f"
             ],
             [
              0.2222222222222222,
              "#7201a8"
             ],
             [
              0.3333333333333333,
              "#9c179e"
             ],
             [
              0.4444444444444444,
              "#bd3786"
             ],
             [
              0.5555555555555556,
              "#d8576b"
             ],
             [
              0.6666666666666666,
              "#ed7953"
             ],
             [
              0.7777777777777778,
              "#fb9f3a"
             ],
             [
              0.8888888888888888,
              "#fdca26"
             ],
             [
              1,
              "#f0f921"
             ]
            ],
            "type": "contour"
           }
          ],
          "contourcarpet": [
           {
            "colorbar": {
             "outlinewidth": 0,
             "ticks": ""
            },
            "type": "contourcarpet"
           }
          ],
          "heatmap": [
           {
            "colorbar": {
             "outlinewidth": 0,
             "ticks": ""
            },
            "colorscale": [
             [
              0,
              "#0d0887"
             ],
             [
              0.1111111111111111,
              "#46039f"
             ],
             [
              0.2222222222222222,
              "#7201a8"
             ],
             [
              0.3333333333333333,
              "#9c179e"
             ],
             [
              0.4444444444444444,
              "#bd3786"
             ],
             [
              0.5555555555555556,
              "#d8576b"
             ],
             [
              0.6666666666666666,
              "#ed7953"
             ],
             [
              0.7777777777777778,
              "#fb9f3a"
             ],
             [
              0.8888888888888888,
              "#fdca26"
             ],
             [
              1,
              "#f0f921"
             ]
            ],
            "type": "heatmap"
           }
          ],
          "histogram": [
           {
            "marker": {
             "pattern": {
              "fillmode": "overlay",
              "size": 10,
              "solidity": 0.2
             }
            },
            "type": "histogram"
           }
          ],
          "histogram2d": [
           {
            "colorbar": {
             "outlinewidth": 0,
             "ticks": ""
            },
            "colorscale": [
             [
              0,
              "#0d0887"
             ],
             [
              0.1111111111111111,
              "#46039f"
             ],
             [
              0.2222222222222222,
              "#7201a8"
             ],
             [
              0.3333333333333333,
              "#9c179e"
             ],
             [
              0.4444444444444444,
              "#bd3786"
             ],
             [
              0.5555555555555556,
              "#d8576b"
             ],
             [
              0.6666666666666666,
              "#ed7953"
             ],
             [
              0.7777777777777778,
              "#fb9f3a"
             ],
             [
              0.8888888888888888,
              "#fdca26"
             ],
             [
              1,
              "#f0f921"
             ]
            ],
            "type": "histogram2d"
           }
          ],
          "histogram2dcontour": [
           {
            "colorbar": {
             "outlinewidth": 0,
             "ticks": ""
            },
            "colorscale": [
             [
              0,
              "#0d0887"
             ],
             [
              0.1111111111111111,
              "#46039f"
             ],
             [
              0.2222222222222222,
              "#7201a8"
             ],
             [
              0.3333333333333333,
              "#9c179e"
             ],
             [
              0.4444444444444444,
              "#bd3786"
             ],
             [
              0.5555555555555556,
              "#d8576b"
             ],
             [
              0.6666666666666666,
              "#ed7953"
             ],
             [
              0.7777777777777778,
              "#fb9f3a"
             ],
             [
              0.8888888888888888,
              "#fdca26"
             ],
             [
              1,
              "#f0f921"
             ]
            ],
            "type": "histogram2dcontour"
           }
          ],
          "mesh3d": [
           {
            "colorbar": {
             "outlinewidth": 0,
             "ticks": ""
            },
            "type": "mesh3d"
           }
          ],
          "parcoords": [
           {
            "line": {
             "colorbar": {
              "outlinewidth": 0,
              "ticks": ""
             }
            },
            "type": "parcoords"
           }
          ],
          "pie": [
           {
            "automargin": true,
            "type": "pie"
           }
          ],
          "scatter": [
           {
            "fillpattern": {
             "fillmode": "overlay",
             "size": 10,
             "solidity": 0.2
            },
            "type": "scatter"
           }
          ],
          "scatter3d": [
           {
            "line": {
             "colorbar": {
              "outlinewidth": 0,
              "ticks": ""
             }
            },
            "marker": {
             "colorbar": {
              "outlinewidth": 0,
              "ticks": ""
             }
            },
            "type": "scatter3d"
           }
          ],
          "scattercarpet": [
           {
            "marker": {
             "colorbar": {
              "outlinewidth": 0,
              "ticks": ""
             }
            },
            "type": "scattercarpet"
           }
          ],
          "scattergeo": [
           {
            "marker": {
             "colorbar": {
              "outlinewidth": 0,
              "ticks": ""
             }
            },
            "type": "scattergeo"
           }
          ],
          "scattergl": [
           {
            "marker": {
             "colorbar": {
              "outlinewidth": 0,
              "ticks": ""
             }
            },
            "type": "scattergl"
           }
          ],
          "scattermap": [
           {
            "marker": {
             "colorbar": {
              "outlinewidth": 0,
              "ticks": ""
             }
            },
            "type": "scattermap"
           }
          ],
          "scattermapbox": [
           {
            "marker": {
             "colorbar": {
              "outlinewidth": 0,
              "ticks": ""
             }
            },
            "type": "scattermapbox"
           }
          ],
          "scatterpolar": [
           {
            "marker": {
             "colorbar": {
              "outlinewidth": 0,
              "ticks": ""
             }
            },
            "type": "scatterpolar"
           }
          ],
          "scatterpolargl": [
           {
            "marker": {
             "colorbar": {
              "outlinewidth": 0,
              "ticks": ""
             }
            },
            "type": "scatterpolargl"
           }
          ],
          "scatterternary": [
           {
            "marker": {
             "colorbar": {
              "outlinewidth": 0,
              "ticks": ""
             }
            },
            "type": "scatterternary"
           }
          ],
          "surface": [
           {
            "colorbar": {
             "outlinewidth": 0,
             "ticks": ""
            },
            "colorscale": [
             [
              0,
              "#0d0887"
             ],
             [
              0.1111111111111111,
              "#46039f"
             ],
             [
              0.2222222222222222,
              "#7201a8"
             ],
             [
              0.3333333333333333,
              "#9c179e"
             ],
             [
              0.4444444444444444,
              "#bd3786"
             ],
             [
              0.5555555555555556,
              "#d8576b"
             ],
             [
              0.6666666666666666,
              "#ed7953"
             ],
             [
              0.7777777777777778,
              "#fb9f3a"
             ],
             [
              0.8888888888888888,
              "#fdca26"
             ],
             [
              1,
              "#f0f921"
             ]
            ],
            "type": "surface"
           }
          ],
          "table": [
           {
            "cells": {
             "fill": {
              "color": "#EBF0F8"
             },
             "line": {
              "color": "white"
             }
            },
            "header": {
             "fill": {
              "color": "#C8D4E3"
             },
             "line": {
              "color": "white"
             }
            },
            "type": "table"
           }
          ]
         },
         "layout": {
          "annotationdefaults": {
           "arrowcolor": "#2a3f5f",
           "arrowhead": 0,
           "arrowwidth": 1
          },
          "autotypenumbers": "strict",
          "coloraxis": {
           "colorbar": {
            "outlinewidth": 0,
            "ticks": ""
           }
          },
          "colorscale": {
           "diverging": [
            [
             0,
             "#8e0152"
            ],
            [
             0.1,
             "#c51b7d"
            ],
            [
             0.2,
             "#de77ae"
            ],
            [
             0.3,
             "#f1b6da"
            ],
            [
             0.4,
             "#fde0ef"
            ],
            [
             0.5,
             "#f7f7f7"
            ],
            [
             0.6,
             "#e6f5d0"
            ],
            [
             0.7,
             "#b8e186"
            ],
            [
             0.8,
             "#7fbc41"
            ],
            [
             0.9,
             "#4d9221"
            ],
            [
             1,
             "#276419"
            ]
           ],
           "sequential": [
            [
             0,
             "#0d0887"
            ],
            [
             0.1111111111111111,
             "#46039f"
            ],
            [
             0.2222222222222222,
             "#7201a8"
            ],
            [
             0.3333333333333333,
             "#9c179e"
            ],
            [
             0.4444444444444444,
             "#bd3786"
            ],
            [
             0.5555555555555556,
             "#d8576b"
            ],
            [
             0.6666666666666666,
             "#ed7953"
            ],
            [
             0.7777777777777778,
             "#fb9f3a"
            ],
            [
             0.8888888888888888,
             "#fdca26"
            ],
            [
             1,
             "#f0f921"
            ]
           ],
           "sequentialminus": [
            [
             0,
             "#0d0887"
            ],
            [
             0.1111111111111111,
             "#46039f"
            ],
            [
             0.2222222222222222,
             "#7201a8"
            ],
            [
             0.3333333333333333,
             "#9c179e"
            ],
            [
             0.4444444444444444,
             "#bd3786"
            ],
            [
             0.5555555555555556,
             "#d8576b"
            ],
            [
             0.6666666666666666,
             "#ed7953"
            ],
            [
             0.7777777777777778,
             "#fb9f3a"
            ],
            [
             0.8888888888888888,
             "#fdca26"
            ],
            [
             1,
             "#f0f921"
            ]
           ]
          },
          "colorway": [
           "#636efa",
           "#EF553B",
           "#00cc96",
           "#ab63fa",
           "#FFA15A",
           "#19d3f3",
           "#FF6692",
           "#B6E880",
           "#FF97FF",
           "#FECB52"
          ],
          "font": {
           "color": "#2a3f5f"
          },
          "geo": {
           "bgcolor": "white",
           "lakecolor": "white",
           "landcolor": "#E5ECF6",
           "showlakes": true,
           "showland": true,
           "subunitcolor": "white"
          },
          "hoverlabel": {
           "align": "left"
          },
          "hovermode": "closest",
          "mapbox": {
           "style": "light"
          },
          "paper_bgcolor": "white",
          "plot_bgcolor": "#E5ECF6",
          "polar": {
           "angularaxis": {
            "gridcolor": "white",
            "linecolor": "white",
            "ticks": ""
           },
           "bgcolor": "#E5ECF6",
           "radialaxis": {
            "gridcolor": "white",
            "linecolor": "white",
            "ticks": ""
           }
          },
          "scene": {
           "xaxis": {
            "backgroundcolor": "#E5ECF6",
            "gridcolor": "white",
            "gridwidth": 2,
            "linecolor": "white",
            "showbackground": true,
            "ticks": "",
            "zerolinecolor": "white"
           },
           "yaxis": {
            "backgroundcolor": "#E5ECF6",
            "gridcolor": "white",
            "gridwidth": 2,
            "linecolor": "white",
            "showbackground": true,
            "ticks": "",
            "zerolinecolor": "white"
           },
           "zaxis": {
            "backgroundcolor": "#E5ECF6",
            "gridcolor": "white",
            "gridwidth": 2,
            "linecolor": "white",
            "showbackground": true,
            "ticks": "",
            "zerolinecolor": "white"
           }
          },
          "shapedefaults": {
           "line": {
            "color": "#2a3f5f"
           }
          },
          "ternary": {
           "aaxis": {
            "gridcolor": "white",
            "linecolor": "white",
            "ticks": ""
           },
           "baxis": {
            "gridcolor": "white",
            "linecolor": "white",
            "ticks": ""
           },
           "bgcolor": "#E5ECF6",
           "caxis": {
            "gridcolor": "white",
            "linecolor": "white",
            "ticks": ""
           }
          },
          "title": {
           "x": 0.05
          },
          "xaxis": {
           "automargin": true,
           "gridcolor": "white",
           "linecolor": "white",
           "ticks": "",
           "title": {
            "standoff": 15
           },
           "zerolinecolor": "white",
           "zerolinewidth": 2
          },
          "yaxis": {
           "automargin": true,
           "gridcolor": "white",
           "linecolor": "white",
           "ticks": "",
           "title": {
            "standoff": 15
           },
           "zerolinecolor": "white",
           "zerolinewidth": 2
          }
         }
        },
        "title": {
         "text": "Pavement Quality vs. Accidents"
        },
        "xaxis": {
         "anchor": "y",
         "domain": [
          0,
          1
         ],
         "title": {
          "text": "pavement_quality"
         }
        },
        "yaxis": {
         "anchor": "x",
         "domain": [
          0,
          1
         ],
         "title": {
          "text": "accidents"
         }
        }
       }
      }
     },
     "metadata": {},
     "output_type": "display_data"
    }
   ],
   "source": [
    "fig = px.bar(df, x = 'pavement_quality' , y = 'accidents',\n",
    "             title= 'Pavement Quality vs. Accidents')\n",
    "fig.show()"
   ]
  },
  {
   "cell_type": "code",
   "execution_count": 6,
   "id": "32124432",
   "metadata": {},
   "outputs": [
    {
     "data": {
      "application/vnd.plotly.v1+json": {
       "config": {
        "plotlyServerURL": "https://plot.ly"
       },
       "data": [
        {
         "hovertemplate": "rain_intensity=%{x}<br>accidents=%{y}<extra></extra>",
         "legendgroup": "",
         "marker": {
          "color": "#636efa",
          "pattern": {
           "shape": ""
          }
         },
         "name": "",
         "orientation": "v",
         "showlegend": false,
         "textposition": "auto",
         "type": "bar",
         "x": {
          "bdata": "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",
          "dtype": "f8"
         },
         "xaxis": "x",
         "y": {
          "bdata": "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",
          "dtype": "i1"
         },
         "yaxis": "y"
        }
       ],
       "layout": {
        "barmode": "relative",
        "legend": {
         "tracegroupgap": 0
        },
        "template": {
         "data": {
          "bar": [
           {
            "error_x": {
             "color": "#2a3f5f"
            },
            "error_y": {
             "color": "#2a3f5f"
            },
            "marker": {
             "line": {
              "color": "#E5ECF6",
              "width": 0.5
             },
             "pattern": {
              "fillmode": "overlay",
              "size": 10,
              "solidity": 0.2
             }
            },
            "type": "bar"
           }
          ],
          "barpolar": [
           {
            "marker": {
             "line": {
              "color": "#E5ECF6",
              "width": 0.5
             },
             "pattern": {
              "fillmode": "overlay",
              "size": 10,
              "solidity": 0.2
             }
            },
            "type": "barpolar"
           }
          ],
          "carpet": [
           {
            "aaxis": {
             "endlinecolor": "#2a3f5f",
             "gridcolor": "white",
             "linecolor": "white",
             "minorgridcolor": "white",
             "startlinecolor": "#2a3f5f"
            },
            "baxis": {
             "endlinecolor": "#2a3f5f",
             "gridcolor": "white",
             "linecolor": "white",
             "minorgridcolor": "white",
             "startlinecolor": "#2a3f5f"
            },
            "type": "carpet"
           }
          ],
          "choropleth": [
           {
            "colorbar": {
             "outlinewidth": 0,
             "ticks": ""
            },
            "type": "choropleth"
           }
          ],
          "contour": [
           {
            "colorbar": {
             "outlinewidth": 0,
             "ticks": ""
            },
            "colorscale": [
             [
              0,
              "#0d0887"
             ],
             [
              0.1111111111111111,
              "#46039f"
             ],
             [
              0.2222222222222222,
              "#7201a8"
             ],
             [
              0.3333333333333333,
              "#9c179e"
             ],
             [
              0.4444444444444444,
              "#bd3786"
             ],
             [
              0.5555555555555556,
              "#d8576b"
             ],
             [
              0.6666666666666666,
              "#ed7953"
             ],
             [
              0.7777777777777778,
              "#fb9f3a"
             ],
             [
              0.8888888888888888,
              "#fdca26"
             ],
             [
              1,
              "#f0f921"
             ]
            ],
            "type": "contour"
           }
          ],
          "contourcarpet": [
           {
            "colorbar": {
             "outlinewidth": 0,
             "ticks": ""
            },
            "type": "contourcarpet"
           }
          ],
          "heatmap": [
           {
            "colorbar": {
             "outlinewidth": 0,
             "ticks": ""
            },
            "colorscale": [
             [
              0,
              "#0d0887"
             ],
             [
              0.1111111111111111,
              "#46039f"
             ],
             [
              0.2222222222222222,
              "#7201a8"
             ],
             [
              0.3333333333333333,
              "#9c179e"
             ],
             [
              0.4444444444444444,
              "#bd3786"
             ],
             [
              0.5555555555555556,
              "#d8576b"
             ],
             [
              0.6666666666666666,
              "#ed7953"
             ],
             [
              0.7777777777777778,
              "#fb9f3a"
             ],
             [
              0.8888888888888888,
              "#fdca26"
             ],
             [
              1,
              "#f0f921"
             ]
            ],
            "type": "heatmap"
           }
          ],
          "histogram": [
           {
            "marker": {
             "pattern": {
              "fillmode": "overlay",
              "size": 10,
              "solidity": 0.2
             }
            },
            "type": "histogram"
           }
          ],
          "histogram2d": [
           {
            "colorbar": {
             "outlinewidth": 0,
             "ticks": ""
            },
            "colorscale": [
             [
              0,
              "#0d0887"
             ],
             [
              0.1111111111111111,
              "#46039f"
             ],
             [
              0.2222222222222222,
              "#7201a8"
             ],
             [
              0.3333333333333333,
              "#9c179e"
             ],
             [
              0.4444444444444444,
              "#bd3786"
             ],
             [
              0.5555555555555556,
              "#d8576b"
             ],
             [
              0.6666666666666666,
              "#ed7953"
             ],
             [
              0.7777777777777778,
              "#fb9f3a"
             ],
             [
              0.8888888888888888,
              "#fdca26"
             ],
             [
              1,
              "#f0f921"
             ]
            ],
            "type": "histogram2d"
           }
          ],
          "histogram2dcontour": [
           {
            "colorbar": {
             "outlinewidth": 0,
             "ticks": ""
            },
            "colorscale": [
             [
              0,
              "#0d0887"
             ],
             [
              0.1111111111111111,
              "#46039f"
             ],
             [
              0.2222222222222222,
              "#7201a8"
             ],
             [
              0.3333333333333333,
              "#9c179e"
             ],
             [
              0.4444444444444444,
              "#bd3786"
             ],
             [
              0.5555555555555556,
              "#d8576b"
             ],
             [
              0.6666666666666666,
              "#ed7953"
             ],
             [
              0.7777777777777778,
              "#fb9f3a"
             ],
             [
              0.8888888888888888,
              "#fdca26"
             ],
             [
              1,
              "#f0f921"
             ]
            ],
            "type": "histogram2dcontour"
           }
          ],
          "mesh3d": [
           {
            "colorbar": {
             "outlinewidth": 0,
             "ticks": ""
            },
            "type": "mesh3d"
           }
          ],
          "parcoords": [
           {
            "line": {
             "colorbar": {
              "outlinewidth": 0,
              "ticks": ""
             }
            },
            "type": "parcoords"
           }
          ],
          "pie": [
           {
            "automargin": true,
            "type": "pie"
           }
          ],
          "scatter": [
           {
            "fillpattern": {
             "fillmode": "overlay",
             "size": 10,
             "solidity": 0.2
            },
            "type": "scatter"
           }
          ],
          "scatter3d": [
           {
            "line": {
             "colorbar": {
              "outlinewidth": 0,
              "ticks": ""
             }
            },
            "marker": {
             "colorbar": {
              "outlinewidth": 0,
              "ticks": ""
             }
            },
            "type": "scatter3d"
           }
          ],
          "scattercarpet": [
           {
            "marker": {
             "colorbar": {
              "outlinewidth": 0,
              "ticks": ""
             }
            },
            "type": "scattercarpet"
           }
          ],
          "scattergeo": [
           {
            "marker": {
             "colorbar": {
              "outlinewidth": 0,
              "ticks": ""
             }
            },
            "type": "scattergeo"
           }
          ],
          "scattergl": [
           {
            "marker": {
             "colorbar": {
              "outlinewidth": 0,
              "ticks": ""
             }
            },
            "type": "scattergl"
           }
          ],
          "scattermap": [
           {
            "marker": {
             "colorbar": {
              "outlinewidth": 0,
              "ticks": ""
             }
            },
            "type": "scattermap"
           }
          ],
          "scattermapbox": [
           {
            "marker": {
             "colorbar": {
              "outlinewidth": 0,
              "ticks": ""
             }
            },
            "type": "scattermapbox"
           }
          ],
          "scatterpolar": [
           {
            "marker": {
             "colorbar": {
              "outlinewidth": 0,
              "ticks": ""
             }
            },
            "type": "scatterpolar"
           }
          ],
          "scatterpolargl": [
           {
            "marker": {
             "colorbar": {
              "outlinewidth": 0,
              "ticks": ""
             }
            },
            "type": "scatterpolargl"
           }
          ],
          "scatterternary": [
           {
            "marker": {
             "colorbar": {
              "outlinewidth": 0,
              "ticks": ""
             }
            },
            "type": "scatterternary"
           }
          ],
          "surface": [
           {
            "colorbar": {
             "outlinewidth": 0,
             "ticks": ""
            },
            "colorscale": [
             [
              0,
              "#0d0887"
             ],
             [
              0.1111111111111111,
              "#46039f"
             ],
             [
              0.2222222222222222,
              "#7201a8"
             ],
             [
              0.3333333333333333,
              "#9c179e"
             ],
             [
              0.4444444444444444,
              "#bd3786"
             ],
             [
              0.5555555555555556,
              "#d8576b"
             ],
             [
              0.6666666666666666,
              "#ed7953"
             ],
             [
              0.7777777777777778,
              "#fb9f3a"
             ],
             [
              0.8888888888888888,
              "#fdca26"
             ],
             [
              1,
              "#f0f921"
             ]
            ],
            "type": "surface"
           }
          ],
          "table": [
           {
            "cells": {
             "fill": {
              "color": "#EBF0F8"
             },
             "line": {
              "color": "white"
             }
            },
            "header": {
             "fill": {
              "color": "#C8D4E3"
             },
             "line": {
              "color": "white"
             }
            },
            "type": "table"
           }
          ]
         },
         "layout": {
          "annotationdefaults": {
           "arrowcolor": "#2a3f5f",
           "arrowhead": 0,
           "arrowwidth": 1
          },
          "autotypenumbers": "strict",
          "coloraxis": {
           "colorbar": {
            "outlinewidth": 0,
            "ticks": ""
           }
          },
          "colorscale": {
           "diverging": [
            [
             0,
             "#8e0152"
            ],
            [
             0.1,
             "#c51b7d"
            ],
            [
             0.2,
             "#de77ae"
            ],
            [
             0.3,
             "#f1b6da"
            ],
            [
             0.4,
             "#fde0ef"
            ],
            [
             0.5,
             "#f7f7f7"
            ],
            [
             0.6,
             "#e6f5d0"
            ],
            [
             0.7,
             "#b8e186"
            ],
            [
             0.8,
             "#7fbc41"
            ],
            [
             0.9,
             "#4d9221"
            ],
            [
             1,
             "#276419"
            ]
           ],
           "sequential": [
            [
             0,
             "#0d0887"
            ],
            [
             0.1111111111111111,
             "#46039f"
            ],
            [
             0.2222222222222222,
             "#7201a8"
            ],
            [
             0.3333333333333333,
             "#9c179e"
            ],
            [
             0.4444444444444444,
             "#bd3786"
            ],
            [
             0.5555555555555556,
             "#d8576b"
            ],
            [
             0.6666666666666666,
             "#ed7953"
            ],
            [
             0.7777777777777778,
             "#fb9f3a"
            ],
            [
             0.8888888888888888,
             "#fdca26"
            ],
            [
             1,
             "#f0f921"
            ]
           ],
           "sequentialminus": [
            [
             0,
             "#0d0887"
            ],
            [
             0.1111111111111111,
             "#46039f"
            ],
            [
             0.2222222222222222,
             "#7201a8"
            ],
            [
             0.3333333333333333,
             "#9c179e"
            ],
            [
             0.4444444444444444,
             "#bd3786"
            ],
            [
             0.5555555555555556,
             "#d8576b"
            ],
            [
             0.6666666666666666,
             "#ed7953"
            ],
            [
             0.7777777777777778,
             "#fb9f3a"
            ],
            [
             0.8888888888888888,
             "#fdca26"
            ],
            [
             1,
             "#f0f921"
            ]
           ]
          },
          "colorway": [
           "#636efa",
           "#EF553B",
           "#00cc96",
           "#ab63fa",
           "#FFA15A",
           "#19d3f3",
           "#FF6692",
           "#B6E880",
           "#FF97FF",
           "#FECB52"
          ],
          "font": {
           "color": "#2a3f5f"
          },
          "geo": {
           "bgcolor": "white",
           "lakecolor": "white",
           "landcolor": "#E5ECF6",
           "showlakes": true,
           "showland": true,
           "subunitcolor": "white"
          },
          "hoverlabel": {
           "align": "left"
          },
          "hovermode": "closest",
          "mapbox": {
           "style": "light"
          },
          "paper_bgcolor": "white",
          "plot_bgcolor": "#E5ECF6",
          "polar": {
           "angularaxis": {
            "gridcolor": "white",
            "linecolor": "white",
            "ticks": ""
           },
           "bgcolor": "#E5ECF6",
           "radialaxis": {
            "gridcolor": "white",
            "linecolor": "white",
            "ticks": ""
           }
          },
          "scene": {
           "xaxis": {
            "backgroundcolor": "#E5ECF6",
            "gridcolor": "white",
            "gridwidth": 2,
            "linecolor": "white",
            "showbackground": true,
            "ticks": "",
            "zerolinecolor": "white"
           },
           "yaxis": {
            "backgroundcolor": "#E5ECF6",
            "gridcolor": "white",
            "gridwidth": 2,
            "linecolor": "white",
            "showbackground": true,
            "ticks": "",
            "zerolinecolor": "white"
           },
           "zaxis": {
            "backgroundcolor": "#E5ECF6",
            "gridcolor": "white",
            "gridwidth": 2,
            "linecolor": "white",
            "showbackground": true,
            "ticks": "",
            "zerolinecolor": "white"
           }
          },
          "shapedefaults": {
           "line": {
            "color": "#2a3f5f"
           }
          },
          "ternary": {
           "aaxis": {
            "gridcolor": "white",
            "linecolor": "white",
            "ticks": ""
           },
           "baxis": {
            "gridcolor": "white",
            "linecolor": "white",
            "ticks": ""
           },
           "bgcolor": "#E5ECF6",
           "caxis": {
            "gridcolor": "white",
            "linecolor": "white",
            "ticks": ""
           }
          },
          "title": {
           "x": 0.05
          },
          "xaxis": {
           "automargin": true,
           "gridcolor": "white",
           "linecolor": "white",
           "ticks": "",
           "title": {
            "standoff": 15
           },
           "zerolinecolor": "white",
           "zerolinewidth": 2
          },
          "yaxis": {
           "automargin": true,
           "gridcolor": "white",
           "linecolor": "white",
           "ticks": "",
           "title": {
            "standoff": 15
           },
           "zerolinecolor": "white",
           "zerolinewidth": 2
          }
         }
        },
        "title": {
         "text": "Rain Intensity vs. Accidents"
        },
        "xaxis": {
         "anchor": "y",
         "domain": [
          0,
          1
         ],
         "title": {
          "text": "rain_intensity"
         }
        },
        "yaxis": {
         "anchor": "x",
         "domain": [
          0,
          1
         ],
         "title": {
          "text": "accidents"
         }
        }
       }
      }
     },
     "metadata": {},
     "output_type": "display_data"
    }
   ],
   "source": [
    "fig = px.bar(df, x = 'rain_intensity' , y = 'accidents',\n",
    "             title= 'Rain Intensity vs. Accidents')\n",
    "fig.show()"
   ]
  },
  {
   "cell_type": "code",
   "execution_count": null,
   "id": "23c0231d",
   "metadata": {},
   "outputs": [],
   "source": []
  }
 ],
 "metadata": {
  "kernelspec": {
   "display_name": "base",
   "language": "python",
   "name": "python3"
  },
  "language_info": {
   "codemirror_mode": {
    "name": "ipython",
    "version": 3
   },
   "file_extension": ".py",
   "mimetype": "text/x-python",
   "name": "python",
   "nbconvert_exporter": "python",
   "pygments_lexer": "ipython3",
   "version": "3.13.2"
  }
 },
 "nbformat": 4,
 "nbformat_minor": 5
}
